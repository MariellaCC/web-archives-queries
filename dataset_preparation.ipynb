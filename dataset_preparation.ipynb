{
  "cells": [
    {
      "cell_type": "markdown",
      "metadata": {},
      "source": [
        "This notebook aims at creating the dataset from the list of archives urls obtained via get_archives.sh.<br>\n",
        "Running time can take several hours."
      ]
    },
    {
      "cell_type": "code",
      "execution_count": 1,
      "metadata": {
        "id": "L8q-P33eQAX6"
      },
      "outputs": [],
      "source": [
        "#enter path to text file containing archives list\n",
        "path_19_01_15_17 = ''"
      ]
    },
    {
      "cell_type": "code",
      "execution_count": 2,
      "metadata": {
        "id": "xY40rHfqQVka"
      },
      "outputs": [],
      "source": [
        "#For a first expeeriment the wat files were retrieved first. This is to be modified\n",
        "urls_wat = path_19_01_15_17.read().splitlines()"
      ]
    },
    {
      "cell_type": "code",
      "execution_count": 4,
      "metadata": {
        "id": "nYiVnI5r6ylz"
      },
      "outputs": [],
      "source": [
        "urls_wet = list(map(lambda x: x.replace('wat', 'wet'), urls_wat))"
      ]
    },
    {
      "cell_type": "code",
      "execution_count": 5,
      "metadata": {
        "colab": {
          "base_uri": "https://localhost:8080/"
        },
        "id": "q4mvsV5-RvVg",
        "outputId": "9a3b8182-17e8-4e8e-ab54-10ec2ade7bcd"
      },
      "outputs": [
        {
          "data": {
            "text/plain": [
              "['https://data.commoncrawl.org/crawl-data/CC-MAIN-2019-04/segments/1547583656530.8/wet/CC-MAIN-20190115225438-20190116011438-00000.warc.wet.gz',\n",
              " 'https://data.commoncrawl.org/crawl-data/CC-MAIN-2019-04/segments/1547583656530.8/wet/CC-MAIN-20190115225438-20190116011438-00001.warc.wet.gz',\n",
              " 'https://data.commoncrawl.org/crawl-data/CC-MAIN-2019-04/segments/1547583656530.8/wet/CC-MAIN-20190115225438-20190116011438-00002.warc.wet.gz',\n",
              " 'https://data.commoncrawl.org/crawl-data/CC-MAIN-2019-04/segments/1547583656530.8/wet/CC-MAIN-20190115225438-20190116011438-00003.warc.wet.gz',\n",
              " 'https://data.commoncrawl.org/crawl-data/CC-MAIN-2019-04/segments/1547583656530.8/wet/CC-MAIN-20190115225438-20190116011438-00004.warc.wet.gz']"
            ]
          },
          "execution_count": 5,
          "metadata": {},
          "output_type": "execute_result"
        }
      ],
      "source": [
        "urls_wet[0:5]"
      ]
    },
    {
      "cell_type": "code",
      "execution_count": 7,
      "metadata": {
        "id": "O7Bk3vMEAS1m"
      },
      "outputs": [],
      "source": [
        "from warcio.archiveiterator import ArchiveIterator\n",
        "import json\n",
        "import pandas as pd\n",
        "import csv\n",
        "import requests"
      ]
    },
    {
      "cell_type": "code",
      "execution_count": 8,
      "metadata": {
        "id": "qLEl4R3T-KQf"
      },
      "outputs": [],
      "source": [
        "archive_links = []\n",
        "target_uris = []\n",
        "warc_record_ids = []\n",
        "content_lengths = []\n",
        "warc_dates = []\n",
        "texts = []"
      ]
    },
    {
      "cell_type": "code",
      "execution_count": 9,
      "metadata": {
        "id": "HTMxp9ZO_4CB"
      },
      "outputs": [],
      "source": [
        "def get_archive_content(path,idx):\n",
        "\n",
        "  wet_path = path\n",
        "\n",
        "  try:\n",
        "    resp = requests.get(wet_path, stream=True)\n",
        "\n",
        "    records = ArchiveIterator(resp.raw, arc2warc=True)\n",
        "  except:\n",
        "    print(f'problem to retrieve archive content {wet_path}')\n",
        "\n",
        "  for record in records:\n",
        "    \n",
        "        try:\n",
        "            url = record.rec_headers.get_header('WARC-Target-URI')\n",
        "        \n",
        "            if 'blackrock' in url.lower():\n",
        "\n",
        "                archive_links.append(wet_path)\n",
        "                \n",
        "                target_uris.append(url)\n",
        "\n",
        "                try:\n",
        "                  content_length = record.rec_headers.get_header('Content-Length')\n",
        "                  content_lengths.append(content_length)\n",
        "\n",
        "                except:\n",
        "                  content_lengths.append(float(\"nan\"))\n",
        "\n",
        "                try:\n",
        "                  warc_date = record.rec_headers.get_header('WARC-Date')\n",
        "                  warc_dates.append(warc_date)\n",
        "\n",
        "                except:\n",
        "                  warc_dates.append(float(\"nan\"))\n",
        "\n",
        "                try:\n",
        "                  content = record.content_stream().read()\n",
        "                  texts.append(content.decode('utf-8'))\n",
        "                \n",
        "                except:\n",
        "                  texts.append(float(\"nan\"))\n",
        "\n",
        "                \n",
        "\n",
        "                try:\n",
        "                  warc_record = record.rec_headers.get_header('WARC-Refers-To')\n",
        "                  warc_record_ids.append(warc_record)\n",
        "                \n",
        "                except:\n",
        "                  warc_record_ids.append(float(\"nan\"))\n",
        "\n",
        "\n",
        "\n",
        "        except:\n",
        "            pass        \n",
        "                    "
      ]
    },
    {
      "cell_type": "code",
      "execution_count": null,
      "metadata": {
        "id": "ntJJiyZKQ-As"
      },
      "outputs": [],
      "source": [
        "for idx, path in enumerate(urls_wet):\n",
        "  get_archive_content(path,idx)"
      ]
    },
    {
      "cell_type": "code",
      "execution_count": null,
      "metadata": {
        "id": "daxQQKJQH2Iw"
      },
      "outputs": [],
      "source": [
        "print(len(archive_links))\n",
        "print(len(target_uris))\n",
        "print(len(warc_record_ids))\n",
        "print(len(content_lengths))\n",
        "print(len(warc_dates))\n",
        "print(len(texts))"
      ]
    },
    {
      "cell_type": "code",
      "execution_count": null,
      "metadata": {
        "id": "HRpUoIzNJy6A"
      },
      "outputs": [],
      "source": [
        "df_urls = pd.DataFrame({'archive_links':archive_links,'urls':target_uris,'record_ids':warc_record_ids,'content_lengths':content_lengths,'warc_dates':warc_dates, 'texts':texts})"
      ]
    },
    {
      "cell_type": "code",
      "execution_count": null,
      "metadata": {
        "id": "PfQkfkLGKHV8"
      },
      "outputs": [],
      "source": [
        "df_urls.head()"
      ]
    },
    {
      "cell_type": "code",
      "execution_count": null,
      "metadata": {
        "id": "x-li2qAtQliA"
      },
      "outputs": [],
      "source": [
        "#df_urls.to_csv(' ',index=False)"
      ]
    }
  ],
  "metadata": {
    "colab": {
      "name": "warc_dataset.ipynb",
      "provenance": []
    },
    "kernelspec": {
      "display_name": "Python 3",
      "name": "python3"
    },
    "language_info": {
      "name": "python"
    }
  },
  "nbformat": 4,
  "nbformat_minor": 0
}
