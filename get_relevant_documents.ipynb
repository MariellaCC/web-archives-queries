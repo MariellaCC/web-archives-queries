{
  "cells": [
    {
      "cell_type": "markdown",
      "metadata": {
        "id": "zZ5gIEli6c1C"
      },
      "source": [
        "This notebook aims at retrieving documents relevant for the example use case. <br>\n",
        "Usage of Corex based on following tutorial: https://github.com/gregversteeg/corex_topic/blob/master/corextopic/example/corex_topic_example.ipynb"
      ]
    },
    {
      "cell_type": "code",
      "execution_count": 58,
      "metadata": {
        "id": "80W2SSh-3DhK"
      },
      "outputs": [],
      "source": [
        "import pandas as pd\n",
        "import sklearn\n",
        "from langdetect import detect\n",
        "import numpy as np\n",
        "import scipy.sparse as ss\n",
        "import matplotlib.pyplot as plt\n",
        "import seaborn as sns\n",
        "import corextopic.corextopic as ct\n",
        "import corextopic.vis_topic as vt\n",
        "from sklearn.feature_extraction.text import CountVectorizer\n",
        "%matplotlib inline\n"
      ]
    },
    {
      "cell_type": "markdown",
      "metadata": {
        "id": "V312WP4HInP8"
      },
      "source": [
        "##I. Prepare dataset"
      ]
    },
    {
      "cell_type": "code",
      "execution_count": 8,
      "metadata": {
        "id": "Kuh5_CVf3XzP"
      },
      "outputs": [],
      "source": [
        "# path to csv dataset created with dataset_preparation.ipynb\n",
        "df = pd.read_csv(' ')"
      ]
    },
    {
      "cell_type": "code",
      "execution_count": 12,
      "metadata": {
        "id": "EHzBExNh4A8N"
      },
      "outputs": [],
      "source": [
        "df['language'] = df['texts'].apply(lambda x: detect(x))"
      ]
    },
    {
      "cell_type": "code",
      "execution_count": 13,
      "metadata": {
        "colab": {
          "base_uri": "https://localhost:8080/",
          "height": 387
        },
        "id": "Svobgsec4NOr",
        "outputId": "8a3996cf-9d5a-48f6-ff26-61b4572a200c"
      },
      "outputs": [
        {
          "data": {
            "text/plain": [
              "<seaborn.axisgrid.FacetGrid at 0x7f6bbf3fd890>"
            ]
          },
          "execution_count": 13,
          "metadata": {},
          "output_type": "execute_result"
        },
        {
          "data": {
            "image/png": "[encoded data removed]",
            "text/plain": [
              "<Figure size 360x360 with 1 Axes>"
            ]
          },
          "metadata": {
            "needs_background": "light"
          },
          "output_type": "display_data"
        }
      ],
      "source": [
        "sns.displot(df, x=\"language\", discrete=True)"
      ]
    },
    {
      "cell_type": "markdown",
      "metadata": {
        "id": "YmdGqcACIuQM"
      },
      "source": [
        "Keep texts in English only"
      ]
    },
    {
      "cell_type": "code",
      "execution_count": 14,
      "metadata": {
        "id": "8G_FTjhj4Rs3"
      },
      "outputs": [],
      "source": [
        "df = df[df['language'] == 'en']"
      ]
    },
    {
      "cell_type": "code",
      "execution_count": 15,
      "metadata": {
        "colab": {
          "base_uri": "https://localhost:8080/"
        },
        "id": "wNZ-L8wC4UNQ",
        "outputId": "608d73d2-5d04-4650-95ad-ba787b02418a"
      },
      "outputs": [
        {
          "name": "stdout",
          "output_type": "stream",
          "text": [
            "<class 'pandas.core.frame.DataFrame'>\n",
            "Int64Index: 573 entries, 0 to 778\n",
            "Data columns (total 8 columns):\n",
            " #   Column           Non-Null Count  Dtype \n",
            "---  ------           --------------  ----- \n",
            " 0   archive_links    573 non-null    object\n",
            " 1   urls             573 non-null    object\n",
            " 2   record_ids       570 non-null    object\n",
            " 3   content_lengths  573 non-null    int64 \n",
            " 4   warc_dates       573 non-null    object\n",
            " 5   html_metadata    569 non-null    object\n",
            " 6   texts            573 non-null    object\n",
            " 7   language         573 non-null    object\n",
            "dtypes: int64(1), object(7)\n",
            "memory usage: 40.3+ KB\n"
          ]
        }
      ],
      "source": [
        "df.info()"
      ]
    },
    {
      "cell_type": "code",
      "execution_count": 29,
      "metadata": {
        "id": "aAipvmq1-2g4"
      },
      "outputs": [],
      "source": []
    },
    {
      "cell_type": "markdown",
      "metadata": {
        "id": "2M_HrXwXI6nh"
      },
      "source": [
        "##II. Texts pre-processing"
      ]
    },
    {
      "cell_type": "code",
      "execution_count": 30,
      "metadata": {
        "colab": {
          "base_uri": "https://localhost:8080/"
        },
        "id": "uFw0D2YU-4K1",
        "outputId": "2a101fc8-198d-4cfb-98f7-f69dd46d58de"
      },
      "outputs": [
        {
          "data": {
            "text/plain": [
              "(573, 20000)"
            ]
          },
          "execution_count": 30,
          "metadata": {},
          "output_type": "execute_result"
        }
      ],
      "source": [
        "vectorizer = CountVectorizer(stop_words='english', max_features=20000, binary=True)\n",
        "doc_word = vectorizer.fit_transform(df['texts'])\n",
        "doc_word = ss.csr_matrix(doc_word)\n",
        "\n",
        "#nr of documents, nr of words\n",
        "doc_word.shape "
      ]
    },
    {
      "cell_type": "code",
      "execution_count": 32,
      "metadata": {
        "id": "pWTNiSa6_Nrr"
      },
      "outputs": [],
      "source": [
        "words = list(np.asarray(vectorizer.get_feature_names_out()))\n"
      ]
    },
    {
      "cell_type": "code",
      "execution_count": 33,
      "metadata": {
        "colab": {
          "base_uri": "https://localhost:8080/"
        },
        "id": "ZyHdQpNV_mN5",
        "outputId": "9900b05c-244e-4580-fc65-8badedc06000"
      },
      "outputs": [
        {
          "data": {
            "text/plain": [
              "(573, 17720)"
            ]
          },
          "execution_count": 33,
          "metadata": {},
          "output_type": "execute_result"
        }
      ],
      "source": [
        "# remove words that are numbers\n",
        "not_digit_inds = [ind for ind,word in enumerate(words) if not word.isdigit()]\n",
        "doc_word = doc_word[:,not_digit_inds]\n",
        "words    = [word for ind,word in enumerate(words) if not word.isdigit()]\n",
        "\n",
        "# number of documents / nr of words\n",
        "doc_word.shape"
      ]
    },
    {
      "cell_type": "markdown",
      "metadata": {
        "id": "FNrcGYpIJHKW"
      },
      "source": [
        "## III. Model training"
      ]
    },
    {
      "cell_type": "code",
      "execution_count": 34,
      "metadata": {
        "id": "Er56HMBg_qQX"
      },
      "outputs": [],
      "source": [
        "# training with 10 topics\n",
        "topic_model = ct.Corex(n_hidden=10, words=words, max_iter=200, verbose=False, seed=1)\n",
        "topic_model.fit(doc_word, words=words);"
      ]
    },
    {
      "cell_type": "code",
      "execution_count": 38,
      "metadata": {
        "colab": {
          "base_uri": "https://localhost:8080/"
        },
        "id": "hzncaKAN_11E",
        "outputId": "bc992fa6-b7f9-485e-a210-a52c29f1c46f"
      },
      "outputs": [
        {
          "name": "stdout",
          "output_type": "stream",
          "text": [
            "0: retail, entertainment, health, travel, doctors, engineers, towns, photography, regulations, waste\n",
            "1: markets, funds, investments, fund, loss, assets, volatility, research, securities, products\n",
            "2: america, investors, korea, portugal, capital, solutions, belgium, africa, investment, china\n",
            "3: machine, makers, stars, rocket, electricity, foundation, jeff, hollywood, bob, east\n",
            "4: sports, cars, login, hotels, deals, fashion, assembly, tourism, music, books\n",
            "5: ventnor, wa, yearly, esc, perth, pixels, captured, presentations, pixadmin, announcements\n",
            "6: states, united, etfs, return, principal, net, date, advisors, type, expenses\n",
            "7: black, policy, netherlands, ishares, terms, poland, spain, listed, singapore, select\n",
            "8: stop, awards, links, facebook, box, share, park, city, arts, green\n",
            "9: kids, campaign, clubs, free, child, women, bible, stories, peace, vision\n"
          ]
        }
      ],
      "source": [
        "topics = topic_model.get_topics()\n",
        "for n,topic in enumerate(topics):\n",
        "    topic_words,_,_ = zip(*topic)\n",
        "    print('{}: '.format(n) + ', '.join(topic_words))"
      ]
    },
    {
      "cell_type": "code",
      "execution_count": 39,
      "metadata": {
        "colab": {
          "base_uri": "https://localhost:8080/"
        },
        "id": "j-ZOR5plAFB5",
        "outputId": "6bc4def2-5f6d-4e1a-d868-0118726499bb"
      },
      "outputs": [
        {
          "name": "stdout",
          "output_type": "stream",
          "text": [
            "NOTE: 'docs' not provided to CorEx. Returning top docs as lists of row indices\n"
          ]
        },
        {
          "data": {
            "text/plain": [
              "[(458, 0.0),\n",
              " (323, 0.0),\n",
              " (516, 0.0),\n",
              " (517, 0.0),\n",
              " (64, 0.0),\n",
              " (313, 0.0),\n",
              " (61, 0.0),\n",
              " (524, 0.0),\n",
              " (476, 0.0),\n",
              " (530, 0.0)]"
            ]
          },
          "execution_count": 39,
          "metadata": {},
          "output_type": "execute_result"
        }
      ],
      "source": [
        "# most probable documents by topic (for first topic)\n",
        "topic_model.get_top_docs(topic=0, n_docs=10, sort_by='log_prob')"
      ]
    },
    {
      "cell_type": "code",
      "execution_count": 40,
      "metadata": {
        "colab": {
          "base_uri": "https://localhost:8080/"
        },
        "id": "reaHDD7gAfj2",
        "outputId": "a21623ed-24ad-4860-8f94-bc59d3e6744b"
      },
      "outputs": [
        {
          "data": {
            "text/plain": [
              "333.0312724936404"
            ]
          },
          "execution_count": 40,
          "metadata": {},
          "output_type": "execute_result"
        }
      ],
      "source": [
        "# total correlation\n",
        "topic_model.tc\n"
      ]
    },
    {
      "cell_type": "code",
      "execution_count": 41,
      "metadata": {
        "colab": {
          "base_uri": "https://localhost:8080/",
          "height": 339
        },
        "id": "pqGYoScQAxpO",
        "outputId": "89805755-fb9f-450b-df8d-044b19582c67"
      },
      "outputs": [
        {
          "data": {
            "image/png": "[encoded data removed]",
            "text/plain": [
              "<Figure size 720x360 with 1 Axes>"
            ]
          },
          "metadata": {
            "needs_background": "light"
          },
          "output_type": "display_data"
        }
      ],
      "source": [
        "plt.figure(figsize=(10,5))\n",
        "plt.bar(range(topic_model.tcs.shape[0]), topic_model.tcs, color='#4e79a7', width=0.5)\n",
        "plt.xlabel('Topic', fontsize=16)\n",
        "plt.ylabel('Total Correlation (nats)', fontsize=16);"
      ]
    },
    {
      "cell_type": "markdown",
      "metadata": {
        "id": "Nv0Qd8N6Jqqh"
      },
      "source": [
        "## IV. Anchored topic models "
      ]
    },
    {
      "cell_type": "code",
      "execution_count": 45,
      "metadata": {
        "id": "WpNwPmY3A81s"
      },
      "outputs": [],
      "source": [
        "anchor_words = [['larry','fink','ceo','blackrock','letter'],['finance','investment','etf']]"
      ]
    },
    {
      "cell_type": "code",
      "execution_count": 57,
      "metadata": {
        "id": "ymek6WXMBYly"
      },
      "outputs": [],
      "source": [
        "anchored_topic_model = ct.Corex(n_hidden=10, seed=2)\n",
        "anchored_topic_model.fit(doc_word, words=words, anchors=anchor_words, anchor_strength=6);"
      ]
    },
    {
      "cell_type": "code",
      "execution_count": 47,
      "metadata": {
        "colab": {
          "base_uri": "https://localhost:8080/"
        },
        "id": "rYmqpQFyBd1Z",
        "outputId": "4aaf8929-c6ed-47ef-f256-929a80d11e8d"
      },
      "outputs": [
        {
          "name": "stdout",
          "output_type": "stream",
          "text": [
            "0: blackrock, fink, larry, ceo, money, company, assets, loss, capital, research\n",
            "1: investment, etf, finance, italy, states, france, markets, portugal, brazil, ishares\n"
          ]
        }
      ],
      "source": [
        "for n in range(len(anchor_words)):\n",
        "    topic_words,_,_ = zip(*anchored_topic_model.get_topics(topic=n))\n",
        "    print('{}: '.format(n) + ', '.join(topic_words))"
      ]
    },
    {
      "cell_type": "markdown",
      "metadata": {
        "id": "0__h3CyPJ-Wz"
      },
      "source": [
        "#### Per topic correlation score"
      ]
    },
    {
      "cell_type": "code",
      "execution_count": 52,
      "metadata": {
        "colab": {
          "base_uri": "https://localhost:8080/"
        },
        "id": "O724azgYBqCV",
        "outputId": "51c4a06c-5968-4f5d-f059-ad3b50600b27"
      },
      "outputs": [
        {
          "name": "stdout",
          "output_type": "stream",
          "text": [
            "[72.79792572 39.84738616 48.95158613 15.85926739 13.42708678  7.96979507\n",
            " 28.51900498 25.67557543 45.9428479  23.54609754]\n",
            "[72.79792572 39.84738616 48.95158613 15.85926739 13.42708678  7.96979507\n",
            " 28.51900498 25.67557543 45.9428479  23.54609754]\n"
          ]
        }
      ],
      "source": [
        "print(np.mean(anchored_topic_model.log_z, axis=0))\n",
        "print(anchored_topic_model.tcs)"
      ]
    },
    {
      "cell_type": "markdown",
      "metadata": {
        "id": "bIYEeCCOJ26k"
      },
      "source": [
        "## VI. Documents display"
      ]
    },
    {
      "cell_type": "code",
      "execution_count": 55,
      "metadata": {
        "colab": {
          "base_uri": "https://localhost:8080/"
        },
        "id": "Ta-6OIdKCTtn",
        "outputId": "fbd000a8-a2c2-4855-aaf9-5c292c378753"
      },
      "outputs": [
        {
          "name": "stdout",
          "output_type": "stream",
          "text": [
            "NOTE: 'docs' not provided to CorEx. Returning top docs as lists of row indices\n"
          ]
        },
        {
          "data": {
            "text/plain": [
              "[(0, 0.0),\n",
              " (264, 0.0),\n",
              " (268, 0.0),\n",
              " (269, 0.0),\n",
              " (279, 0.0),\n",
              " (289, 0.0),\n",
              " (290, 0.0),\n",
              " (297, 0.0),\n",
              " (300, 0.0),\n",
              " (304, 0.0)]"
            ]
          },
          "execution_count": 55,
          "metadata": {},
          "output_type": "execute_result"
        }
      ],
      "source": [
        "anchored_topic_model.get_top_docs(topic=0, n_docs=10, sort_by='log_prob')"
      ]
    },
    {
      "cell_type": "code",
      "execution_count": 56,
      "metadata": {
        "colab": {
          "base_uri": "https://localhost:8080/"
        },
        "id": "Hz5wGIW-FjRz",
        "outputId": "65f69d86-e24e-4980-b365-6298dc29ae0e"
      },
      "outputs": [
        {
          "name": "stdout",
          "output_type": "stream",
          "text": [
            "NOTE: 'docs' not provided to CorEx. Returning top docs as lists of row indices\n"
          ]
        },
        {
          "data": {
            "text/plain": [
              "[(0, 0.0),\n",
              " (251, 0.0),\n",
              " (256, 0.0),\n",
              " (257, 0.0),\n",
              " (260, 0.0),\n",
              " (268, 0.0),\n",
              " (269, 0.0),\n",
              " (271, 0.0),\n",
              " (274, 0.0),\n",
              " (279, 0.0)]"
            ]
          },
          "execution_count": 56,
          "metadata": {},
          "output_type": "execute_result"
        }
      ],
      "source": [
        "anchored_topic_model.get_top_docs(topic=1, n_docs=10, sort_by='log_prob')"
      ]
    }
  ],
  "metadata": {
    "colab": {
      "name": "archives_selection_blackrock.ipynb",
      "provenance": []
    },
    "kernelspec": {
      "display_name": "Python 3",
      "name": "python3"
    },
    "language_info": {
      "name": "python"
    }
  },
  "nbformat": 4,
  "nbformat_minor": 0
}
